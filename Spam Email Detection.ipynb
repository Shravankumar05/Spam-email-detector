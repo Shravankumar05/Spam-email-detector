{
 "cells": [
  {
   "cell_type": "markdown",
   "id": "649a3f7e",
   "metadata": {},
   "source": [
    "## Work flow"
   ]
  },
  {
   "cell_type": "markdown",
   "id": "597fad4c",
   "metadata": {},
   "source": [
    "- data preprocessing\n",
    "- train test split\n",
    "- logistic regression model\n",
    "- trained regression model"
   ]
  },
  {
   "cell_type": "markdown",
   "id": "3d4c4592",
   "metadata": {},
   "source": [
    "## Importing dependencies"
   ]
  },
  {
   "cell_type": "code",
   "execution_count": 9,
   "id": "f56594d7",
   "metadata": {},
   "outputs": [],
   "source": [
    "import numpy as np\n",
    "\n",
    "import pandas as pd\n",
    "\n",
    "from sklearn.model_selection import train_test_split\n",
    "\n",
    "# convert text data into numerical value\n",
    "from sklearn.feature_extraction.text import TfidfVectorizer\n",
    "\n",
    "from sklearn.linear_model import LogisticRegression\n",
    "\n",
    "# evaluation of testing data\n",
    "from sklearn.metrics import accuracy_score"
   ]
  },
  {
   "cell_type": "markdown",
   "id": "5c52bfd8",
   "metadata": {},
   "source": [
    "## Data preprocessing"
   ]
  },
  {
   "cell_type": "code",
   "execution_count": 5,
   "id": "76765969",
   "metadata": {},
   "outputs": [],
   "source": [
    "df = pd.read_csv(\"spam_ham_dataset.csv\")"
   ]
  },
  {
   "cell_type": "code",
   "execution_count": 16,
   "id": "d81d300e",
   "metadata": {},
   "outputs": [
    {
     "data": {
      "text/html": [
       "<div>\n",
       "<style scoped>\n",
       "    .dataframe tbody tr th:only-of-type {\n",
       "        vertical-align: middle;\n",
       "    }\n",
       "\n",
       "    .dataframe tbody tr th {\n",
       "        vertical-align: top;\n",
       "    }\n",
       "\n",
       "    .dataframe thead th {\n",
       "        text-align: right;\n",
       "    }\n",
       "</style>\n",
       "<table border=\"1\" class=\"dataframe\">\n",
       "  <thead>\n",
       "    <tr style=\"text-align: right;\">\n",
       "      <th></th>\n",
       "      <th>Unnamed: 0</th>\n",
       "      <th>label</th>\n",
       "      <th>text</th>\n",
       "      <th>label_num</th>\n",
       "    </tr>\n",
       "  </thead>\n",
       "  <tbody>\n",
       "    <tr>\n",
       "      <th>0</th>\n",
       "      <td>605</td>\n",
       "      <td>ham</td>\n",
       "      <td>Subject: enron methanol ; meter # : 988291\\r\\n...</td>\n",
       "      <td>0</td>\n",
       "    </tr>\n",
       "    <tr>\n",
       "      <th>1</th>\n",
       "      <td>2349</td>\n",
       "      <td>ham</td>\n",
       "      <td>Subject: hpl nom for january 9 , 2001\\r\\n( see...</td>\n",
       "      <td>0</td>\n",
       "    </tr>\n",
       "    <tr>\n",
       "      <th>2</th>\n",
       "      <td>3624</td>\n",
       "      <td>ham</td>\n",
       "      <td>Subject: neon retreat\\r\\nho ho ho , we ' re ar...</td>\n",
       "      <td>0</td>\n",
       "    </tr>\n",
       "    <tr>\n",
       "      <th>3</th>\n",
       "      <td>4685</td>\n",
       "      <td>spam</td>\n",
       "      <td>Subject: photoshop , windows , office . cheap ...</td>\n",
       "      <td>1</td>\n",
       "    </tr>\n",
       "    <tr>\n",
       "      <th>4</th>\n",
       "      <td>2030</td>\n",
       "      <td>ham</td>\n",
       "      <td>Subject: re : indian springs\\r\\nthis deal is t...</td>\n",
       "      <td>0</td>\n",
       "    </tr>\n",
       "  </tbody>\n",
       "</table>\n",
       "</div>"
      ],
      "text/plain": [
       "   Unnamed: 0 label                                               text  \\\n",
       "0         605   ham  Subject: enron methanol ; meter # : 988291\\r\\n...   \n",
       "1        2349   ham  Subject: hpl nom for january 9 , 2001\\r\\n( see...   \n",
       "2        3624   ham  Subject: neon retreat\\r\\nho ho ho , we ' re ar...   \n",
       "3        4685  spam  Subject: photoshop , windows , office . cheap ...   \n",
       "4        2030   ham  Subject: re : indian springs\\r\\nthis deal is t...   \n",
       "\n",
       "   label_num  \n",
       "0          0  \n",
       "1          0  \n",
       "2          0  \n",
       "3          1  \n",
       "4          0  "
      ]
     },
     "execution_count": 16,
     "metadata": {},
     "output_type": "execute_result"
    }
   ],
   "source": [
    "df.head()"
   ]
  },
  {
   "cell_type": "code",
   "execution_count": 14,
   "id": "5d7a689e",
   "metadata": {},
   "outputs": [
    {
     "data": {
      "text/plain": [
       "(5171, 4)"
      ]
     },
     "execution_count": 14,
     "metadata": {},
     "output_type": "execute_result"
    }
   ],
   "source": [
    "df.shape"
   ]
  },
  {
   "cell_type": "code",
   "execution_count": 13,
   "id": "70e6cfac",
   "metadata": {},
   "outputs": [
    {
     "data": {
      "text/plain": [
       "Unnamed: 0    False\n",
       "label         False\n",
       "text          False\n",
       "label_num     False\n",
       "dtype: bool"
      ]
     },
     "execution_count": 13,
     "metadata": {},
     "output_type": "execute_result"
    }
   ],
   "source": [
    "df.isnull().any()"
   ]
  },
  {
   "cell_type": "code",
   "execution_count": 24,
   "id": "ae669bae",
   "metadata": {},
   "outputs": [],
   "source": [
    "# separating the data as texts and label\n",
    "\n",
    "x = df[\"text\"]\n",
    "y = df[\"label_num\"]"
   ]
  },
  {
   "cell_type": "code",
   "execution_count": 39,
   "id": "a8d676c4",
   "metadata": {},
   "outputs": [
    {
     "name": "stdout",
     "output_type": "stream",
     "text": [
      "0       Subject: enron methanol ; meter # : 988291\\r\\n...\n",
      "1       Subject: hpl nom for january 9 , 2001\\r\\n( see...\n",
      "2       Subject: neon retreat\\r\\nho ho ho , we ' re ar...\n",
      "3       Subject: photoshop , windows , office . cheap ...\n",
      "4       Subject: re : indian springs\\r\\nthis deal is t...\n",
      "                              ...                        \n",
      "5166    Subject: put the 10 on the ft\\r\\nthe transport...\n",
      "5167    Subject: 3 / 4 / 2000 and following noms\\r\\nhp...\n",
      "5168    Subject: calpine daily gas nomination\\r\\n>\\r\\n...\n",
      "5169    Subject: industrial worksheets for august 2000...\n",
      "5170    Subject: important online banking alert\\r\\ndea...\n",
      "Name: text, Length: 5171, dtype: object\n"
     ]
    }
   ],
   "source": [
    "print(x)"
   ]
  },
  {
   "cell_type": "code",
   "execution_count": 40,
   "id": "8c2582d2",
   "metadata": {},
   "outputs": [
    {
     "name": "stdout",
     "output_type": "stream",
     "text": [
      "0       0\n",
      "1       0\n",
      "2       0\n",
      "3       1\n",
      "4       0\n",
      "       ..\n",
      "5166    0\n",
      "5167    0\n",
      "5168    0\n",
      "5169    0\n",
      "5170    1\n",
      "Name: label_num, Length: 5171, dtype: int64\n"
     ]
    }
   ],
   "source": [
    "print(y)"
   ]
  },
  {
   "cell_type": "code",
   "execution_count": 34,
   "id": "9286e7a8",
   "metadata": {},
   "outputs": [
    {
     "name": "stdout",
     "output_type": "stream",
     "text": [
      "(3878,)\n",
      "(1293,)\n"
     ]
    }
   ],
   "source": [
    "# train test split\n",
    "\n",
    "x_train, x_test, y_train, y_test = train_test_split(x, y, test_size = 0.25, random_state = 5)\n",
    "\n",
    "print(x_train.shape)\n",
    "print(x_test.shape)"
   ]
  },
  {
   "cell_type": "markdown",
   "id": "ff06ff16",
   "metadata": {},
   "source": [
    "## Feature extraction"
   ]
  },
  {
   "cell_type": "code",
   "execution_count": 46,
   "id": "e25fb175",
   "metadata": {},
   "outputs": [],
   "source": [
    "# convert text data into numerical value which can ube used as input to the logistic regression\n",
    "\n",
    "feature_extraction = TfidfVectorizer(min_df = 1, stop_words = 'english', lowercase = 'True' )\n",
    "\n"
   ]
  },
  {
   "cell_type": "code",
   "execution_count": 47,
   "id": "68b649a4",
   "metadata": {},
   "outputs": [],
   "source": [
    "x_train_features = feature_extraction.fit_transform(x_train)\n",
    "x_test_features = feature_extraction.transform(x_test)"
   ]
  },
  {
   "cell_type": "code",
   "execution_count": 56,
   "id": "b62ea5f8",
   "metadata": {},
   "outputs": [
    {
     "name": "stdout",
     "output_type": "stream",
     "text": [
      "  (0, 20319)\t0.2794977745221887\n",
      "  (0, 35355)\t0.173024466639272\n",
      "  (0, 28468)\t0.23297130805344218\n",
      "  (0, 41033)\t0.14404538374323975\n",
      "  (0, 16277)\t0.23297130805344218\n",
      "  (0, 27279)\t0.27882701079856054\n",
      "  (0, 2969)\t0.3758610487062901\n",
      "  (0, 13419)\t0.1177762213299618\n",
      "  (0, 35944)\t0.15425010061300629\n",
      "  (0, 11910)\t0.3454618202891332\n",
      "  (0, 35244)\t0.16738371795488569\n",
      "  (0, 28330)\t0.28187645923680804\n",
      "  (0, 37603)\t0.17545544140008396\n",
      "  (0, 25743)\t0.15314324524506515\n",
      "  (0, 27940)\t0.1190762362540078\n",
      "  (0, 5478)\t0.18286461138738433\n",
      "  (0, 981)\t0.21463020626793478\n",
      "  (0, 13476)\t0.19932193993116026\n",
      "  (0, 3053)\t0.2706969967377999\n",
      "  (0, 26623)\t0.12765417803744888\n",
      "  (0, 37360)\t0.04385681608428319\n",
      "  (1, 31674)\t0.0319409931099472\n",
      "  (1, 1085)\t0.048754622942930204\n",
      "  (1, 1505)\t0.03062202379975014\n",
      "  (1, 19432)\t0.0344349261059447\n",
      "  :\t:\n",
      "  (3876, 19393)\t0.01665594400499775\n",
      "  (3876, 19066)\t0.03750228110802161\n",
      "  (3876, 17279)\t0.02297525524629861\n",
      "  (3876, 9740)\t0.02128936447276058\n",
      "  (3876, 34092)\t0.015300458759910845\n",
      "  (3876, 37603)\t0.049903033143266474\n",
      "  (3876, 25743)\t0.014518999585969743\n",
      "  (3876, 27940)\t0.011289220246731615\n",
      "  (3876, 37360)\t0.02078959125982664\n",
      "  (3877, 21545)\t0.23530090307295443\n",
      "  (3877, 390)\t0.2516841335244956\n",
      "  (3877, 21457)\t0.24147259326785678\n",
      "  (3877, 25423)\t0.24417835492822226\n",
      "  (3877, 25415)\t0.22632693744845805\n",
      "  (3877, 38032)\t0.20242809080476548\n",
      "  (3877, 38190)\t0.1950489473400384\n",
      "  (3877, 4518)\t0.189539897834505\n",
      "  (3877, 21127)\t0.3727201207144068\n",
      "  (3877, 16236)\t0.33176752207430354\n",
      "  (3877, 982)\t0.31203348436477557\n",
      "  (3877, 680)\t0.16609195613261207\n",
      "  (3877, 6665)\t0.20973753372923729\n",
      "  (3877, 1)\t0.40678896286310195\n",
      "  (3877, 984)\t0.1068020859340263\n",
      "  (3877, 37360)\t0.04869118063367789\n"
     ]
    }
   ],
   "source": [
    "print(x_train_features)"
   ]
  },
  {
   "cell_type": "markdown",
   "id": "2e177c8b",
   "metadata": {},
   "source": [
    "## Training logistic regression model"
   ]
  },
  {
   "cell_type": "code",
   "execution_count": 55,
   "id": "918947da",
   "metadata": {},
   "outputs": [
    {
     "data": {
      "text/plain": [
       "LogisticRegression()"
      ]
     },
     "execution_count": 55,
     "metadata": {},
     "output_type": "execute_result"
    }
   ],
   "source": [
    "model = LogisticRegression()\n",
    "\n",
    "model.fit(x_train_features, y_train)"
   ]
  },
  {
   "cell_type": "markdown",
   "id": "43bfee86",
   "metadata": {},
   "source": [
    "## Evaluating model"
   ]
  },
  {
   "cell_type": "markdown",
   "id": "f563ebf7",
   "metadata": {},
   "source": [
    "Note:\n",
    "\n",
    "The reason we want to check accuracy on the prediction of both the training data and testing data is to identify the problem of overfitting if it happens.\n",
    "\n",
    "Overfitting is when the model learns the training data too well, capturing noises and random fluctuations on the training data instead of underlying patterns, thereby performing extremely well on the training data but poorly on the testing data."
   ]
  },
  {
   "cell_type": "code",
   "execution_count": 57,
   "id": "7b2a5a39",
   "metadata": {},
   "outputs": [],
   "source": [
    "# prediction on training data\n",
    "\n",
    "predic = model.predict(x_train_features)\n",
    "\n",
    "# accuracy on training data\n",
    "\n",
    "accur = accuracy_score(y_train, predic)"
   ]
  },
  {
   "cell_type": "code",
   "execution_count": 63,
   "id": "1147c1f4",
   "metadata": {},
   "outputs": [
    {
     "name": "stdout",
     "output_type": "stream",
     "text": [
      "Accuracy on training data is 0.9958741619391439\n"
     ]
    }
   ],
   "source": [
    "print(f\"Accuracy on training data is {accur}\")"
   ]
  },
  {
   "cell_type": "code",
   "execution_count": 68,
   "id": "72112014",
   "metadata": {},
   "outputs": [],
   "source": [
    "# prediction on test data\n",
    "\n",
    "predic1 = model.predict(x_test_features)\n",
    "\n",
    "# accuracy on testing data\n",
    "\n",
    "accur1 = accuracy_score(y_test, predic1)"
   ]
  },
  {
   "cell_type": "code",
   "execution_count": 66,
   "id": "131b71f0",
   "metadata": {},
   "outputs": [
    {
     "name": "stdout",
     "output_type": "stream",
     "text": [
      "Accuracy on training data is 0.9907192575406032\n"
     ]
    }
   ],
   "source": [
    "print(f\"Accuracy on training data is {accur1}\")"
   ]
  },
  {
   "cell_type": "markdown",
   "id": "bb87c9a7",
   "metadata": {},
   "source": [
    "## Build a predictive system"
   ]
  },
  {
   "cell_type": "code",
   "execution_count": 82,
   "id": "09c49848",
   "metadata": {},
   "outputs": [],
   "source": [
    "def spam_detection(mail):\n",
    "    \n",
    "    mail_features = feature_extraction.transform(mail)\n",
    "    \n",
    "    prediction = model.predict(mail_features)\n",
    "    \n",
    "    if prediction[0] == 1:\n",
    "        return \"Spam mail\"\n",
    "        \n",
    "    else:\n",
    "        return \"Ham mail\""
   ]
  },
  {
   "cell_type": "code",
   "execution_count": 83,
   "id": "1238569b",
   "metadata": {},
   "outputs": [
    {
     "data": {
      "text/plain": [
       "'Ham mail'"
      ]
     },
     "execution_count": 83,
     "metadata": {},
     "output_type": "execute_result"
    }
   ],
   "source": [
    "spam_detection([\"on the calender that i handed out at the beginning of the fall semester , the retreat was scheduled for the weekend of january 5 - 6 . but because of a youth ministers conference that brad and dustin are connected with that week , we ' re going to change the date to the following weekend , january 12 - 13 . now comes the part you need to think about .\"])"
   ]
  },
  {
   "cell_type": "code",
   "execution_count": null,
   "id": "7b0b12df",
   "metadata": {},
   "outputs": [],
   "source": []
  }
 ],
 "metadata": {
  "kernelspec": {
   "display_name": "Python 3 (ipykernel)",
   "language": "python",
   "name": "python3"
  },
  "language_info": {
   "codemirror_mode": {
    "name": "ipython",
    "version": 3
   },
   "file_extension": ".py",
   "mimetype": "text/x-python",
   "name": "python",
   "nbconvert_exporter": "python",
   "pygments_lexer": "ipython3",
   "version": "3.9.13"
  }
 },
 "nbformat": 4,
 "nbformat_minor": 5
}
